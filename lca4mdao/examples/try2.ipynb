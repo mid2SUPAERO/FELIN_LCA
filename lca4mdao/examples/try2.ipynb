{
 "cells": [
  {
   "cell_type": "code",
   "execution_count": null,
   "id": "7fd49e33",
   "metadata": {},
   "outputs": [],
   "source": [
    "import numpy as np\n",
    "import openmdao.api as om\n",
    "import brightway2 as bw\n",
    "from lca4mdao.component import LcaCalculationComponent\n",
    "from lca4mdao.variable import ExplicitComponentLCA\n",
    "from lca4mdao.utilities import setup_bw, setup_ecoinvent, cleanup_parameters"
   ]
  },
  {
   "cell_type": "code",
   "execution_count": null,
   "id": "5b908f97",
   "metadata": {},
   "outputs": [],
   "source": [
    "bw.projects.set_current(\"Ariana_5_LCA\")  # Your project name\n",
    "bw.bw2setup()\n",
    "print(bw.projects.report())\n",
    "print(bw.databases)"
   ]
  },
  {
   "cell_type": "code",
   "execution_count": null,
   "id": "e1ede481",
   "metadata": {},
   "outputs": [],
   "source": [
    "ecoinvent = bw.Database(\"ecoinvent 3.8 cutoff\")\n",
    "print(\"Random activity:\", ecoinvent.random())"
   ]
  },
  {
   "cell_type": "code",
   "execution_count": null,
   "id": "340c76bc",
   "metadata": {},
   "outputs": [],
   "source": [
    "fp = r'C:\\Users\\joana\\Desktop\\Joana\\FELIN\\ecoinvent 3.8_cutoff_ecoSpold02\\datasets'\n",
    "if \"ecoinvent 3.8 cutoff\" not in bw.databases or bw.Database(\"ecoinvent 3.8 cutoff\").random() is None:\n",
    "    print(\"Importing ecoinvent...\")\n",
    "    from bw2io.importers import SingleOutputEcospold2Importer\n",
    "\n",
    "    ei = SingleOutputEcospold2Importer(fp, \"ecoinvent 3.8 cutoff\")\n",
    "    ei.apply_strategies()\n",
    "    ei.statistics()       # Will print unlinked/invalid exchanges etc.\n",
    "    ei.write_database()\n",
    "    print(\"Ecoinvent imported successfully!\")\n",
    "else:\n",
    "    print(\"ecoinvent 3.8 cutoff already imported and not empty.\")"
   ]
  },
  {
   "cell_type": "code",
   "execution_count": null,
   "id": "60ed85ed",
   "metadata": {},
   "outputs": [],
   "source": [
    "carbon_fibre = ('ecoinvent 3.8 cutoff', '5f83b772ba1476f12d0b3ef634d4409b')\n",
    "aluminium_almg3 = ('ecoinvent 3.8 cutoff', '3d66c7f5f8d813a5b63b2d19a41ec763')\n",
    "aluminium_alli = ('ecoinvent 3.8 cutoff', '03f6b6ba551e8541bf47842791abd3f7')\n",
    "titanium = ('ecoinvent 3.8 cutoff', '3412f692460ecd5ce8dcfcd5adb1c072')\n",
    "nickel = ('ecoinvent 3.8 cutoff', '6f592c599b70d14247116fdf44a0824a')\n",
    "steel = ('ecoinvent 3.8 cutoff', '9b20aabdab5590c519bb3d717c77acf2')\n",
    "electronic_active = ('ecoinvent 3.8 cutoff', '52c4f6d2e1ec507b1ccc96056a761c0d')\n",
    "electronic_passive = ('ecoinvent 3.8 cutoff', 'b1b65fe4d00b29f2299c72b894a3c0a0')\n",
    "wire = ('ecoinvent 3.8 cutoff', 'f8586b86fe8ac595be9f6b18e9b94488')\n",
    "battery = ('ecoinvent 3.8 cutoff', 'b2feecd5152754c08303bc84dc371b68')\n",
    "motor = ('ecoinvent 3.8 cutoff', '0a45c922ec9f5a8345c88fb3ecc28b6f')\n",
    "oxygen = ('ecoinvent 3.8 cutoff', '53b5def592497847e2d0b4d62f2c4456')\n",
    "hydrogen = ('ecoinvent 3.8 cutoff', 'a834063e527dafabe7d179a804a13f39')\n",
    "transport = ('ecoinvent 3.8 cutoff', '41205d7711c0fad4403e4c2f9284b083')\n",
    "electricity = ('ecoinvent 3.8 cutoff', '3855bf674145307cd56a3fac8c83b643')"
   ]
  },
  {
   "cell_type": "code",
   "execution_count": null,
   "id": "02b0bada",
   "metadata": {},
   "outputs": [],
   "source": [
    "def build_data():\n",
    "    \"\"\"Build the Brightway2 database for the launcher components\"\"\"\n",
    "    components.delete(warn=False)\n",
    "    components = bw.Database('components')\n",
    "    components.register()\n",
    "    \n",
    "    # Create the activities as in your notebook\n",
    "    components.new_activity('launcher', name='launcher').save()\n",
    "    components.new_activity('launch_per_kg', name='launch of ariane 5 per kg payload').save()\n",
    "\n"
   ]
  }
 ],
 "metadata": {
  "language_info": {
   "name": "python"
  }
 },
 "nbformat": 4,
 "nbformat_minor": 5
}
